{
  "nbformat": 4,
  "nbformat_minor": 0,
  "metadata": {
    "colab": {
      "name": "ProjeGan.ipynb",
      "provenance": []
    },
    "kernelspec": {
      "name": "python3",
      "display_name": "Python 3"
    },
    "accelerator": "GPU"
  },
  "cells": [
    {
      "cell_type": "code",
      "metadata": {
        "id": "vhEeAzCSPVcR",
        "colab_type": "code",
        "colab": {
          "resources": {
            "http://localhost:8080/nbextensions/google.colab/files.js": {
              "data": "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",
              "ok": true,
              "headers": [
                [
                  "content-type",
                  "application/javascript"
                ]
              ],
              "status": 200,
              "status_text": ""
            }
          },
          "base_uri": "https://localhost:8080/",
          "height": 110
        },
        "outputId": "444ff4a8-5b45-458e-e0ef-840becf8a201"
      },
      "source": [
        "from google.colab import files\n",
        "files.upload()"
      ],
      "execution_count": null,
      "outputs": [
        {
          "output_type": "display_data",
          "data": {
            "text/html": [
              "\n",
              "     <input type=\"file\" id=\"files-c8df8a17-4745-4423-a730-619d62246165\" name=\"files[]\" multiple disabled\n",
              "        style=\"border:none\" />\n",
              "     <output id=\"result-c8df8a17-4745-4423-a730-619d62246165\">\n",
              "      Upload widget is only available when the cell has been executed in the\n",
              "      current browser session. Please rerun this cell to enable.\n",
              "      </output>\n",
              "      <script src=\"/nbextensions/google.colab/files.js\"></script> "
            ],
            "text/plain": [
              "<IPython.core.display.HTML object>"
            ]
          },
          "metadata": {
            "tags": []
          }
        },
        {
          "output_type": "stream",
          "text": [
            "Saving train.zip to train.zip\n"
          ],
          "name": "stdout"
        },
        {
          "output_type": "execute_result",
          "data": {
            "text/plain": [
              "{'train.zip': b'PK\\x03\\x04\\n\\x00\\x00\\x00\\x00\\x00f\\x8c\\xe6P\\x00\\x00\\x00\\x00\\x00\\x00\\x00\\x00\\x00\\x00\\x00\\x00\\x06\\x00\\x00\\x00train/PK\\x03\\x04\\x14\\x00\\x00\\x00\\x08\\x00\\x1a\\xb6\\xa3N^V:\\xfd\\xab\\x0c\\x00\\x00\\x8b\\r\\x00\\x00\\x13\\x00\\x00\\x00train/lld_25097.jpg\\x9d\\x96gT\\xd3\\xdb\\x9a\\xc6\\xff!\\xa1\\x05\\x14\\x08Ep(J\\xa4\\x1c\\x8a\\x88\\x88\\x02R\\x04\\xa4K\\x8d\\x18:\\x07\\x10\\xf1\\x10\\x10\\x91\"E\\x08R\\x95\\x16!\\x10A@\\x8e@Pi9\\x08\\x18\\x85P\\xa4\\xa3H\\x91\\x12z\\t\\xbdH\\r\\x100\\x90\\x81\\xbb\\xe6\\xcc\\xcc\\x87\\xbb\\xd6\\xdc;\\xcf^\\xcf^{\\xad\\xf7\\xdd\\xe5\\xb7\\xdf\\x0f{3\\x86\\x18S\\x00\\xb7\\xb1\\xbe\\x91>\\x00\\x02\\x01\\x00\\xe8\\xb8\\x01\\x8cQ@\\x17\\x003\\x9d\\xe8\\xa4\\x07\\x1f\\x0b\\xc2\\x029\\x11\\x1b\\x0b\\x0b3\\x0b;\\x1b\\x14\\xca\\xce\\xc6\\xce\\x0e\\xe5\\xe4\\xe2\\x84r\\x9c\\xe6`g?\\xc5s\\xea4\\x1777\\x0f7\\x94\\x13\\xc6\\x0b\\xe3\\xe6=\\x1es\\x9f,\\x02:\\x99\\t\\x86\\xb0\\x1dO\\xe4\\xe6`\\xe7\\xe0\\xfe\\xb7\\xc5h\\x00x\\xd8\\x80\\x08 \\x02\\x0c\\x12\\x07\\x98x@`\\x1e\\x10\\xa3\\x19\\x10;>\\'3\\xe8\\x1f\\x02\\xfeK &0\\x84\\x99\\x85\\x95\\x8d\\x1d\\xcaq\\x9cP\\xc5\\r0\\x1d\\xef\\xcd\\x04\\x0133C \\xc7\\xd1\\xb0\\xe38\\x00\\xe1a\\x86\\x9dW\\xd4f\\xe1\\xb5ta\\x15\\xf7\\xe5\\xbb\\xfc4\\xe5\\r\\x1b\\\\\\xa7\\xfc\\x0b\\xbfU\\xef\\xc6\\x05%\\xd7G\\x91\\xecP\\x813\\x82Bg%$\\xa5\\xa4\\x7f\\x93\\xb9\\xa2|\\xf5\\x9a\\x8a\\xaa\\x9a\\xeeM=}\\x03C#c\\xc4m\\xeb;H\\x1b[;\\xb7\\xbb\\xee\\xf7<\\xee\\xff\\xe1\\xe9\\xe7\\x1f\\x10\\xf88(8$*:&6\\xee\\xd9\\xf3\\xf8TlZ:\\xeeeF\\xe6\\xab\\xbc\\xfc\\x02|\\xe1\\xdbw\\xef\\x8b>TTV}$~\\xfa\\\\\\xdd\\xd8\\xd4\\xdc\\xd2\\xda\\xd6\\xde\\xf1\\xf5G_\\xff\\xc0 yhxd\\x9a23;7\\xbf\\xb0\\xb8\\xb4\\xbc\\xb9\\xb5M\\xdd\\xd9\\xdd\\xa3\\xed\\x1f\\x9cp\\x81\\x000\\xe8o\\xfdS.\\x1e\\x80\\t\\xc4\\x049\\xbeR\\xd6\\x13.\\x10\\xd3\\xe3\\x93\\x04\\x1e\\x08\\xf3yE\\x16\\x98\\xb6%\\xab\\x8b/\\xaf\\xf8\\xe5\\xa7l|:)o\\xca\\xbf\\xb0\\xc3\\x95\\xac6\\xf8]\\x1f\\xf5B\\x05.\\\\\\x99\\x96\\xd8<A\\xfb\\x07\\xd9\\xbf\\x06\\x16\\xf9\\xff\"\\xfbo\\xb0\\xff\\xe1\\x1a\\x018\\xc1\\xa0\\xe3\\xe2\\x81y\\x00-\\xe0\\x10\\x91\\x17o\\x0c\\xd8\\xfd\\xa6dr\\x83\\x99\\xcf\\xf2\\x9f\\x9a\\r\\x15\\xbb\\xb9\\x90\\\\F5yV\\x99\\xc3\\x03G-\\tq\\\\)N\\xb3\\x08\\xe1zr\\xb0;_\\x13\\x9c\\xe3\\x9aT\\x10\\x08\\xba\\r3ZUt\\xe2\\xe0\\xcd\\x85\\xd1\\x1aGP\\x05\\xe3\\xa2o\\xc2\\xd9\\xadgf\\xc7\\xfb\\xb0}\\xa2GU\\x1bc\\xbe9\\xae\\x97G\\xf8\\xfe\\xfa\\xf4\\xdb\\xa3\\x81R\\t\\xbe\\x03\\xbc\\x7f\\x96\\xf3\\xd5tz7R\\xa6\\xb1\\x914gUDr%\\x1c\\x86\\xb5\\x91\\xb4\\xe7\\x05\\xfb;\\x91\\x9d\\r\\xe3\\xc4\\xc2\\xd0\\x99\\x11|\\x81\\x05@\\xc1\\xd5Qd\\xbe\\xb6\\xa5\\xf1Y\\xea]\\x82J\\xe7E\\xfcm\\xeel\\xa4\\x14\\xc5\\xfc\\xd9\\x81y\\xec\\x0eo\\xa1)\\xca\\xd7\\xf7r\\xcb\\xfc\\xb5\\x97D\\xa8\\xb9\\x9e\\xaaF\\x9b\\xe6\\xd8\\x1dB|\\xc0\\xe2\\x13\\xd5|\\x07O?\\xa03\\xca\\xcb\\x10\\x9d\\xac\\xbb\\x87\\xa4\\x87=%\\xe4\\x96=\\xb8G\\xfa\\x8c[\\x9b\\xeb\\xc4\\x9a\\xfd\\xbc\\x90\\x1cZ\\xae\\xaa\\xbc\\xdf-\\xb2\\x19\\xe3\\x10y\\xa9q\\xcan\\xf7\\xc7\\xc0\\xb8S/umb\\xc2h_t\\x10\\x81+q\\x0b\\x90\\xa1\\xcbn\\xa27\\xb8\\xf2\\xae\\x88x\\x8e6\\x9f\\xbd{\\x16\\xff\\xa7\\xb8*\\xf9\\xbaM\\xd2W\\xed/\\x88\\xe4\\xa9\\xf8^\\x82\\x10\\rE\\xd9\\xbf\\x92\\xb0H5\\xf9\\xc8\\xf2u\\xed\\xd6yx\\x06\\xfe\\x01\\xe8\\x807\"L\\x8d\\xfc!9\\x9b\\xdc\\xb3A\\xe0FP\\x84\\xabU\\xa2\\x19@PIa\\x8d\\xf1\\x08\\xfd\\xf5\\xca\\xda\\xa2\\xef\\xbc\\xa0\\xea\\xef\\xc5*\\xfe!\\x04]\\x8e6d\\xea\\x10\\xcd\\xdc\\xeaS\\xb4;=5j\\xd4\\x17j>\\x8bj\\xa7_\\xc8[i9\\x0b\\x93\\r\\xeb\\x88\\xe0\\xc0nEC0\\xdd\\x90\\xcd\\x96\\x10\\xa9\\x96\\x84\\x18L\\xe3\\x91\\t\\x8cs\\x8fGf\\xe63$[\\xec\\xeb\\xa7I\\x90=\\xf3\\xe6\\xbd\\xc49\\xa1\\x9b\\xb8\\x8a[\\xf9\\xea\\x01/\\xb8\\x9a\\xe2if\\x17\\xd3\\xca\\xb3-c\\x9a\\x14b5\\xbb\\x18\\x80Z\\xf5\\x91\\x80\\x86\\xc3g\\x99 (vy\\xbf\\x9e\\x8a\\x1dn3\\xb6\\x93&\\x0cqe\\xff\\xef\\x1b\\x85\\xa2\\xae\\xf6f#\\x8a\\xb14L\\x99\\x01>(\\xc4>h\\xd6%\\xe0\\xc9)\\x12\\xf4\\xed\\xa9\\xee\\t\\xad\\x88\\xa3\\x80\\xa6L\\xb7\\xf7\\xee\\x19\\xc6\\x19\\xd5\\xdd\\xe3\\x91>\\xe4o\\x03\\xb5g2K\\xcfZ\\x11,\\x11\\xc9\\xab\\xdb\\xeb\\x02\\xcb\\x07q\\xc9tK\\xd1$|\\xe4nO\\xbb\\xdbS\\x03\\x1dt\\xbc\\xfe\\xae\\xa0\\xd6\\r\\x8d\\x15x\\xcb\\x81\\xfb\\xeb$\\x82I\\xc10\\xacw\\xa4\\x85\\xcf\\xab\\xf9\\xd1z\\xa5\\x80\\xdb\\x9a\\x11A\\x9f\\xe6=\\xd5\\xe1/-9\\x10\\xa0\\xd2\\xef\\xd8\\xfd\\xab\\xd2\\xc2o\\xae\\xed5\\x1a\\x86\\xbe!\\x1b\\xf1\\xc9}\\xf3Lr\\xd6\\xa9-\\'Om\\xed\\x95\\xad\\xf5\\x86C\\xe6p\\xde\\xdc\\xb9\\x8c\\xcc\\xdf\\xff\\x98Qb>\"\\'\\x14U\\xa2\\xef\\xb1_\\xc9\\xab\\xf1\\xf9\\x8f}[\\x7f\\xcd\\n\\xd6g\\x91\\xc52\\xfe\\xe883\\xad\\xd0u\\x9aVs#NU\\xbe\\x19\\x16\\xfb\\xe5\\x85\\x8f\\x95Z\\xa4 \\xa6\\x93\\xc7\\xf9&-\\x14\\xe1\\xe8\\xa6W\\xd1\\x9f\\x86\\xa1>\\xb3\\x1e\\x02g_U\\x15{\\xfa=\\x88\\xf0\\xbc\\xe4|\\x1fI7\\xd8[\\xc6\\x95#t\\xbb\\xf54D\\xe9T\\xc3\\x910\\xd9z\\x83\\xd8|y\\xd8\\xf1\\xdb\\xd4\\xa1v\\xbbL\\xd7 \\x03\\xb8\\xf8\\xb0I\\x82\\x0c/\\x07?\\xa4\\xa3z\\xa6\\x1c\\xac\\xda\\x95\\xe23\\xa0]\\xbd\\xef\\xf6\\xb5~\\xd2\\x16\\xeb7\\xa4\\xba^f&{s\\x95\\xb9\\xe4\\xdb]/\\r7\\xa7W\\xde{\\xd9\\nL\\x0e]-\\x81z\\x9d\\xf9\\x9d\\xdb\\xe0{\\xce[\\x88X\\xb7\\x96\\xdd\\\\\\xb8\\xf0\\x98\\x90\\xba\\xed\\xdb\"\"\\x87\\xfb\\x85[j\\xd41tc\\rW\\x82\\x85\\x89T\\x1c<\\x05\\x8e\\xb4Y\\xe3\\xab\\xff\\x96\\xfagT;u\\xef\\x80\\x9c\\x1b$\\xba\\xb4J\\xb7\\xc7\\xab`\\x1fzpg\\'z#\\xdb\\xdb\\xe6Qo\\x9f\\x17\\x91\\x14\\x84,\\xde+\\xc4T;\\x1fX\\n\\nn\\xcfa\\xe3\\'\\'\\xe8\\x98\\x90\\xbcT\\\\=J\\xd3A:/\\x1e\\xf8\\xdb\\xba\\r\\xca\\x1dz\\x85\\xe6eA?L\\x9d\\x0e\\xfa\\xf1e\\x89\\xf5\\x1eU\\x13Z\\x83_\\x83=\\x0e8\\xa7B\\x0fe\\xcb\\nT\\xf8\\x9b\\x92\\x1a\\x9a\\x84\\x97\\x8a0\\xe3\\x89i\\xa5\\xbdUU\\x87\"\\xf8\\xe5\\x14\\xbcZY\\xfa\\xfec\\xcfI\\xf4\\x8e\\x1bk\\xebHC\\xaf\\xbarh`\\xe9\\xf3\\xb3Z\\x92\\nV\\xeb\\rGo7\\x08J4D\\xe1!\\xa1\\xb9\\xf1\\xe7\\xb3a7\\xb0J{\\x97m\\x9d%-\\x11\\x8b\\xd4\\x94GMz\\xf7\\xcf\\xf4\\x94\\xcev\\xdeA\\xab\\x0f\\xa9\\x0b\\xd9<\\xd4bf\\x00=\\xc5\\xf94\\x93\\xbcC\\x8c\\x0e\\x16\\x81S7\\n\\x93\\x9cSG\\x17;\\xb1\\xae`\\xf7\\x91\\xf36\\xf1\\x93+bB?\\xde\\x98\\xdb\\x05\\xd9\\x13G3=\\'\\x8f\\x98\\xbf\\xd6\\x19\\xd4\\xb0\\x1d\\x9a\\xc8\\xa5M\\xb6 \\xb6\\x18@l\\xcd~\\xe6\\x84f\\xaf\\xfa$LGH\\xd3\\xd4\\xb3gD6\\xd0>\\xa3kq{g*\\\\2wJD\\xc1\\xae\\x92,\\xea\\xa8k\\x9eJ\\x16@\\x894\\xa4\\xab\\xa4\\xf4O\\x8b\\x08\\xfa\\xe6\\x90D\\xc3\\xc2P\\x15\\x9b\\nq\\xdet\\xa3B\\xcd\\xdc\\xeb\\x82c<\\x17\\x94\\x14&\\xe2\\xb5{\\xe3\\xf6\\x97L{\\xe4\\x9e\\xe8\\xb9s\\xc7\\xd9\\r\\xc8\\xfb0]\\x1c\\xf0\\x8f.IZk\\xce\\xf6\\xd8\\x98\\xaf\\x8b;\\xb4\\x9f\\xed\\x0e\\xaf\\xf9v\\xf1\\xce>\\xf6N\\xd5\\xcf\\x92\\xbb9\\xf8\\xda\\xd9W\\xb5\\xfds\\x02\\xbe\\x87\\x01$\\xa9\\x0f\\xd5u\\x83+\\xb3d\\xb3o\\xb3\\x99\\xac\\x18\\xef\\xf0\\xe1iyc9EY\\xf6\\x14\\x9d\\x05UD\\xcd\\x9f+?H\\x97[\\xe7M\\xae\\x0fU\\t\"\\x8e4\\xf0F\\x06\\xea\\x1b\\x06;\\x84\\xfc\\xf9$\\x89\\xe7\\xf9)\\x8fJ\\xa0\\x7f\\xed@\\xfc\\x9c@\\xef\\x16\\xc9w\\xce\\x84$\\'\\x83RM5\\x86\\x8afJ \\xa96\\\\\\xbfkw;\\xf0\\xae;+R\\x1e0\\xe55OoR\\t\\x15\\xc993\\xeb\\x06\\x0c\\xe0\\x01\\x1a^/^*j\\xd4\\xfb\\x92\\xd0\\xb1\\xc8\\x00t\\'\\xfc\\xc7u&o\\x7f\\x88\\xb3\\xa8\\x0c\\xeb\\x19;\\x97\\xc2ev\\xca\\x8e\\xa0H\\xb3\\xa4d\\xc7n\\x0c\\x8c\\xc2\\x90\\xfe\\xb8\\xae\\xef\\xfd\\x1ei\\x0b}\\xef\\xe8\\xa8>\\xed\\xf6\\xef\\xe1IM\\xc3-\\xea{\\no\\x13\\xa3\\x06\\x08\\xc1\\x81\\xa9\\xe3\\xe8\\x97\\xe9\\x983B\\xb18X\\x05^\\xe1\\xe5[\\xed\\xfby\\xf1\\xbb]\\x16y\\xf1\\xd2\\xc0\\x89K0|+\\x7f\\x05\\x85\\xea\\xe7\"\\xd2\"\\xdb\\xf1\\xae:\\xe1\\xf4\\xb85\\xc2\\xc2\\x01\\xd8\\xae\\xe4\\x8b\\xf6\\x85\\x08\\xc5\\t\\x92}\\xeb\\xab\\xd5\\t%2\\xf6V\\x9f\\xbb\\x98[\\x95\\x1c\\xdcgZE(\\x15\\xb1\\n\\xa8\\xec\\x8a\\xeel\\x8d\\xd9\\xe6\\xa2]\\xa6\\x9c?\\x0cV\\x99\\x07r\\x14cW\\x16\\x89;\\x1f\\x96\\x1f\\xbb\\xd3\\xccK\\x07*\\xeb\\xf8\\x8b\\xa9\\x0c \\xd2\\x0f\\x87{yt\\xae\\x1f\\xa7\\x8c\\xed\\xac\\xae\\xcbH\\xea\\n\\xba\\x18|O3\\x02\\xd9\\xa3\\xa6\\x99{:\\xbdpt\\xa9\\x87S\\x82\\xe4\\x195\\t\\xc6\\xd2\\xb2_M\\xd7\\x9d\\xa5\\xb9\\x0b\\xb8Q\\xf4}\\xc6b\\xee\\xcb\\xa5\\x95]\\xce\\x9c7\\xb7\\xb0Y\\xc0\\x18S=7\\xe8\\x1a\\xed\\xa2\\xf618\\xb5\\xba*\\x99\\x9d\\xa3\\xb5=\\x06@|]\\x87J[\\xe9R|=\\x91\\x87\\xe7\\x8a\\xd5\\xca\\xa5\\x1f\\xf3\\xc8R\\x11\\xad\\xd0\\xed\\xfa\\xe7#\\xd6-9-\\xb9\\t\\x95\\xb4&\\x8d\\xcc\\xad5>\\x85\\t\\xdd\\x9e\\x8f\\xd7\\x1f\\xdd\\xfe\\xa5\\x1c\"\\xa1\\xe7\\xeb\\xc3\\xdfi\\xce\\xb9Y\\x92\\xd2\\x8ew\\xb4\\xb9{IC\\x9b\\x7fv!\\xd8\\xc1/\\x91o\\xa3t\\x8b\\xe8q\\x86\\xfe\\xc1l\\x13-E\\x13\\x11t\\xd0m\\xb2\\xb6\\x16\\xa8%\\x07\\x0c\\x88\\xb2\\x86=xuw\\xb0\\xfa\\xe8\\xa9\\x92|\\xe5\\xf7j\\x18W\\xb7\\xcf9\\xb0b\\xf9\\x8e\\xd0L?\\xb2\\x9cf\\xd0\\xbc;!\\xf9#\\xbfF\\xe7\\xbd\\xda\\x13l3\\xd7\\x18\\xda\\xf9\\xcd\\xf2\\xa9`\\xf2\\xb3+Y\\xb9L\\xcbH\\x0e\\x91\\xbc\\xf1\\xfb!\\x18\\xe6\\xbb:\\xcb\\xf5\\xab\\xaf\\r:\\xaf\\x0boi\\xa6\\x9bu\\xb5Y\\xfd\\x90\\x10\\x15\\xdfp\\\\ql\\xc8\\x7f\\xf2\\x82\\xe7\\xd7\\xacC.\\xce\\xf0\\xcb>\\x99\\x00\\xa7\\x12\\xda\\xb7\\x1c\\x02ec\\xb6\\xa1\\xe5\\xbb\\x8f1\\xf4Z\\xbc\\x08\\x85L\\'\\x15\\xd6\\xf5;\\x1dx\\xe5\\xbc~\\xae\\xb4X~\\xfb\\xfd\\xccb\\xcb6j\\xf7\\xee\\x01\\x03\\x08\\xd8E\\x93\\x11\\xa3\\x8be\\x06\\x8d\\x0c\\x80\\xc7\\xdf;P\"v\\xd9f\\x95p\\xa3\\xa9\\x05\\x0e\\x94\\x18X\\x95\\x84`\\xdc\\xbe\\x07\\xa0\\xc4?^2\\xd0\\xdc\\xf9%\\xe9\\x9c9\\xadd,S\\x07\\xcb\\xcbv\\xf6\\xe9(\\xed\\xdb\\n\\xc9U\\xb6\\x8b\\xb9\\xa5\\xfeY\\xa6X\\x91jih\\xc6b\\xfaX\\x88\\xc3\\x9a\\xe0S\\xeau\\x0e\\x95\\x90\\x19}\\x9f\\x84%S\\x85s\\x1b\\xcbI\\x963\\xa6\\xb2MwV\\xddq\\xaae!\\x12\\xd5\\x9f\\xc6\\xcc\\xd4\\xb2=\\xee\\xef\\x11.\\x0e\\x90\\x0c(\\xde\\xf7\\x06\\xd6\\x08\\xf0_\\xf2\\xa48\\x9f\\x9cH\\x95\\xa3U\\x17\\x8cH\\x05\\x11;Fn_\\xa0;Gwd\\xbd1\\x9f,J_\\xad\"\\xd2^w\\x84T\\xbdYt\\xb9\\xbc\\x9cA\\x08^\\x12]\\xa7\\xaey\\xd2f(\"\\x13\\xc5r\\xaf$\\xa3m\\xe5\\x87\\xf6\\xad\\x0c3\\x144\\x83F>-r\\x99#\\xb2}-\\x83<\\x1a\\t\\xef\\x1c$1^\\xc3\\x11\\xdc\\x07\\xf8\\x91\\xf3C4\\xb8@\\xfbx\\xeb\\x8d\\x0e\\x11\\xc3\\xdd\\xf9\\xfaH\\x92ThI}\\x16\\xe7\\xa3\\xd1\\x1b\\xf6^\\xe4\\xe0\\xc5\\xe8\\xb0\\xf6Z\\x9b\\xbd\\xf0\\x81U\\xb5\\x079(\\xbc\\x9d\\x81\\x9b;\\xac\\x8d\\xd3\\xa4\\xea\\xb6?\\xff\\x96\\x10\\x8bi\\x12%\\xd1\\xe4{\\xc5\\x9d}\\xa7o\\xd6k\\x0c@\\x0ey\\xf3\\xa8o\\xb9,}]\\xb2V\\xd8I\\x12\\xc7\"\\x86lZ?\\xd8C\\xe7\\xed\\xefJ\\x10\\x89\\xb1#|\\x91l8\\x95\\x19\\x8b\\xa2\\xa2K|\\xa7\\x01~y>\\xe4\\xcas\\xe9b\\xf8\\x02\\x11*\\x9d\\x97q\\xf2\\x1f\\xe2v\\xb2\\x1du\\xb6\\xef@=f2\\xe5\\xcbG\\xe5\\x97\\xe9r\\xf9:\\x05\\x17\\xd3\\xaf\\xf5S\\xb3\\x08?\\x15X\\xc6\\xb9\\xaf\\xc5\\xa1l\\xc5\\x84\\xa3z\\xed\\xfb>ri\\xee,\\xdd\\x8e{\\xb5\\xb9\\xed\\x95\\xc0\\x9a\\xdd\\x12\\xe6bgIs?\\xf3\\x87A\\xefQ\\xf2J\\xfbR\\x13ey:k6D\\xa3o\\x98\\x8e\\x11\\x1c(\\xab\\\\\\x196%&R\\x8d*\\xbf}9~\\xa6\\xa6\\xbf\\xf8M^x8\\xbc\\xcc\\xce*\\xb8\\xf2\\xdd`\\xfa\\xe7\\xcd 7\\x1b[o\\xe5\\x15\\x8ebI\\xec^t7\\x8e\\x87\\naB\\xcai\\xab\\x07\\x12\\xee\\x07\\xc1_\\xb8\\xf4_\\xa2\\xc2\\xc5\\x8b%\\x13\\n\\xf4)\\x86\\xd4\\x1a=\\xdf^\\x1c3$\\\\\\x85\\x80\\xcdevu\\x8bO\\x96\\xc9\\t\\xdan\\x197Oy_\\xbf\\xa9\\xd2\\xa1\\xef\\x98\\xe5k\\xd6\\x16\\xd29\\xbd:~\\x8d\\xd5\\xe3\\xc7\\x9e\\xb3l1\\x814\\xf7\\x049\\x93Y\\xea\\xcf\\xfb>\\xc8_=3S\\xfc\\x1a\\xecF\\xa32\\x847\\xe5\\x05\\xd8\\xbf5\\xc4\\xef\\xf6\\x03egXPT\\xc3 1\\xdf\\xbc>tX\\n.`%\\xf88oa\\xc1\\xcb\\xaf\\xf2\\xe0ta-\\xf3\\x9fId7i\\xd9E}=\\x95s`0\\xc6x\\xafx6c\\xcc1\\x04[\\x1a\\xff\\x04\\x1b\\'%\\xe7\\x9aj\\xc6\\x00`5\\xb8\\x8f\\xebh\\xfb\\xfb\\x8ft\\xf9\\x8d\\xb3aI\\x1a\\x88\\xda\\xd1\\xc1\\xf1\\xcar\\xca\\x88O\\x14\\t\\xa5Lq\\xfa\\x98\\x10;\\xfe\\xf9\\xecNS\\x89\\x87\\x86\\xe1\\xbd\\x0e\\xba\\xf6\\xa2l\\xdd_\\x1brJf\\nt\\x84\\xffH-\\x85\\xb86\\xa2\\xfd,\\xdf\\xb2G\\xc6_\\xb4\\xden\\x05h\\x91wI\\x7f\\xf8\\xc0\\x19\\'\\x99\\x95nR\\xf3\\xeb\\xa7r8\\xfd\\xbd4q\\xb8rd\\xc9uS(\\xdds\\xbd L\\xab\\xdb7\\xa5E\\xd8\\xb0\\xbc\\xc0\\xb3(\\x1f\\x90n\\x00\\x8f\\xe4\\xea\\xf1\\xef\\x9c\\x94\\xb1\\xfb\\xef*\\xfe_\\x16c\\x0c\\xff\\'PK\\x03\\x04\\x14\\x00\\x00\\x00\\x08\\x00\\x1c\\xb6\\xa3N/k\\x96\\x98\\xb1\\x08\\x00\\x00\\xd2\\t\\x00\\x00\\x13\\x00\\x00\\x00train/lld_26738.jpg\\x9d\\x94\\x07P\\x93\\xd9\\x16\\xc7\\xbf4 \\x01I\\x02\\x01)\\x92 \\x04\\x85\\x8d\\x85&Ep\\x01\\x05BSz\\x11\\x10T\\x94\\xf6\\x04\\xa4\\x87\"\\xbdH\\x8d\\x88\\x82\\x82\\xd2qa\\xd9\\xd0\\x82 \\x18\\xa4\\x1a\\x8a\\xc3JQ\\x82\\xa0@@TP1AJV\\x81lpV\\xdf\\xcc\\x9b\\x9dy\\xfb\\xde\\xff\\x9bs\\xe7;\\xe7\\xdc\\xfb}\\xf7w\\xef\\x9c\\xc3\\x9d\\xe0\\xce\\x02(3cSc\\x00\\x04\\x02\\x00\\x10\\xef\\x01\\xb8S\\xc0\\t\\x00\\x02\\xde\\xd1\\xce\\x08\\xe1\\t\\xca\\x07\\xdd\\x91\\x00\\x1f\\x1f\\x8c\\x0f.\\x80@\\xc0\\x05\\xe0p\\x84\\x10R\\x08!(,\\x08\\x87\\xefB\\xef\\x12F\\xa2Ph\\x14BHDT\\x04%\\xca{G\\xed|\\x04\\xb4\\xb3\\x12\\x02\\x15\\xe0-D\\t\\xc2\\x05Q\\xff\\xb3\\xb8\\x9d\\x00Z\\x00\\x88\\x03\\xe2  9\\x00\\x8c\\x06A\\xd0 n/\\x80\\xe3\\xed\\x13\\x06\\xfa&\\xe0/\\x81\\xc0\\x10(\\x8c\\x8f_\\x00\\x8e\\x10\\xe4M\\xb8\\x8f\\x02\\xc0\\xbc\\x7f\\x83\\xa1\\x10\\x18\\x0c\\n\\xe5e\\xaf\\xf0\\xf2\\x00\\x14\\r\\x13\\xd9\\xabb\\xc0\\'j}\\x8e_.\\x10\\xa3\\x1a\\x9fS* \\x7f\\xbc\\xa1K\\xccf\\x84\\x85W;\\x1f\\x94\\x00G\\x88\\xef\\x96\\x90\\x94R\\xd8\\xb7_Q\\xe9\\'\\xf5#\\x1a\\x9aZ\\xdaGO\\x18\\x1a\\x19\\x13ML\\xcdl\\xed\\xec\\x1d\\x1c\\x9dN;{\\\\\\xb8\\xe8\\xe9\\xe5\\xed\\xe3\\x1b\\x1c\\x12\\x1a\\x16N\\x8a\\x88LLJNI\\xbd\\x9a\\x96~=\\xf7\\xc6\\xcd\\xbc\\xfc[\\xb7\\x0b\\xca\\xca+*\\xef\\xfdRU\\xfdk#\\xb5\\xe9~s\\xcb\\x83\\xd6\\xb6\\xee\\x9e\\xde\\xc7\\xf4\\xbe\\xfe\\x81\\xc1\\xd1\\xb1g\\xcf\\xc7\\x19\\x13/&\\x99s\\xf3\\xaf\\x17\\xde\\xbc}\\xb7\\xb8\\xc4^\\xf9\\xbc\\xba\\xb6\\xbe\\xc1\\xf9\\xe3\\xcb\\x0e\\x17\\x08\\x80\\x80\\xbe\\xebo\\xb9\\xd0<.0\\x94w\\xa4\\xfc;\\\\ p\\xf8\\xce\\x044\\x14\\xb6W\\x85O\\xc4\\xc0\\x9a\\xff\\\\\\xa0\\xa8\\x9cj\\xbc\\x00\\xe6xNiC\\x17\\\\^\\xcd\\x86%v>h\\x04!\\x8eWg*\\xb0w\\xd0\\xbe\\x91\\xfd3\\xb0\\x84\\xff\\x8b\\xec\\x07\\xd8\\xbf\\xb9&\\x01!\\x08\\x88wy\\x104\\xa0\\x07lYozoz\\x97\\xc5!\\xe9dz\\xba\"\\xf0\\x0f\\x9d\\xb2\\xfff\\xe4nrw\\x1c\\xe2-\\xed\\xca|\\x072Z\\x83u\\xffS\\x06\\xed\\xa4n\\x9a\\x8f\\xa7\\x98\\x83\\xa2\\x87\\xaae\\xb0Z\\xbd\\x13\\x85\\x99\\x19\\x8co\\xd4\\xb63\\xdcCU\\x16\\xa3\\xd4\\xf8\\xb6\\xf9\\'W\\xbez\\x1f9\\xb4*\\xee \\x8e2\\r\\x0e\\r\\xd6I\\xca\\x96\\xb8&\\x1e\\x1e\\xa6\\x0b\\x03DL?\\x10\\x06u\\x05+|\\xdd%tm\\xbd\\xd8\\x85\\xf4\\xc8\\xe8\\xf56l\\xc1i\\x1a\\xb2\\xcc\\xb5\\xd48M\\xc6\\xec\\xae\\xf3\\x1b\\xb5\\xd19;\\xbca\\x92\\xa7\\x84\\x0b\\xb5\\x9f\\xa9\\x7f,\\xc0\\xb2\\xed\\xfa\\x97\\xee\\xc9\\x15\\x17\\xa5\\x8fX\\x92\\x8dC\\xcb\\x9d\\xc3\\xb7\\xe1\\x17\\xa1\\xe5\\x1f\\xf1\\xfe\\x92]]\\xf2\\xb2\\xb3\\x05E\\x99Q\\xd6\\x1c+\\x90\\x11\\xc6\\n\\xe4Z\\xe1\\xf6s\\xca\\xa7\\xb9h.\\xb0+dK\\xd5<el\\xd5\\xfe\\xf9\\x9a\\xceB\\xe0\\xc2\\x8b&jD\\xd80\\xfa\\x19\\xadL\\'\\xf5cr\\xc6\\xfeO\\x88)\\xb6x{%\\xc9\\xd1\\xe0\\x19\\xedd\\xed+Jma\\xc5\\xa4yT\\xb8NH\\xb6\\xc4\\xf0\\xc3\\x96\\xd9\\x12\\x06\\x8c%h\\xf0\\xbc\\x94U9C\\x8e\\xb6\\xf7\\x1e\\xdf\\xc6\\xb3\\xd7\\xde\\x93R\\xad\\xd3O\\xb9\\x8dk\\x8b9\\x8c\\x0eo`O6\\x9e\\x90\\xc4M\\x0bG\\x15\\x00\\xab\\x93\\xd9s\\x8e)\\xf0}&XO\\xc3\\x03\\r\\xf74\\xb5!:\\xc6&\\x92\\xc7\\xb4e\\xed\\x8a\\x93q\\xc9@p,\\x92\\x16\\xcb\\xe4\\x02in\\x12-lb\\xaa[H\\xda\\xb4yT\\xa1y\\x15\\xad\\xa6F\\xbaj\\xe2\\xb7q\\x06\\xba\\xc8#O\\x13v\\xda\\xf2\\x9e\\x81lB\\xa4\\xd9\\n\\x0e\\xc7\\x89r\\xe4x\\xcd\\xd5\\x90\\xb3\\x1e\\x81\\xc7\\xbc\\xda[Z\\r\\xdd\\xa5\\xbc5\\xaa[\\xd7\\x08\\xde\\x0c\\xdf\\x99\\xa9\\x92\\xf7\\x11\\xe0l\\xbb`u\\xfd\\xbe\\x8d\\xbc\\x03\\x911\\xf1u\\xde\\xd3J#\\x97\\xa2\\x89\\xcc\\x8f\\xc63VcG\\x08!mMm\\xf1-D\\xf5S\\xad\\x8e\\xb6/Q\\xde\\xe0-\\x8c\\xb5>\\x8c/}\\x85,\\xed\\xbe\\x84\\x13\\xd75\\x08e\\x15v\\xe7S\\'\\xdf\\x85\\xe1\\xf7g\\x86f\\x84+\\x0ef\\xaa\\xaa?\\xf4\\xe1\\x97\\x8b\\xc0$\\x12\\xea\\x94{/+\\xaf(Y!\\x84\\xb2\\xbe\\x1e\\'\\x15\\xbf\\xd9z\\xdb\\xcd\\x05\\x84\\xdd\\xde\\xca\\x9cg\\x1bW\\nr\\x81\\xf9u\\x8d\\x95\\xc3_\\xa9\\x16w\\xe7\\xc9\\x1bEC\\x1c{?5\\x8b\\xb1\\xa63\\x1a\\x0c\\xe2\\xe8\\x81\\x12jCC\\xf2A\\neV?\\xa7G\\x04\\xa8\\xbaZ\\x9el\\x05\\x00\\xc2q\\xf6\\xc5\\xf48\\x84b\\x19\\xcf\\xaa\\x96\\xf7\\'\\x8c\\xc3\\x0f\\xf9{\\x9a\\x94\\xa5\\x99\\x0f\\xc8\\xd7\\xdb\\x1bA\\x14\\xd2t\\x01~\\xed\\x12\\xa4\\x02g\\x90H\\xa6\\xb90\\x03\\xe2\\xaf!U\\xc7\\xecn\\x90R{;\\x83\\xf8\\xc8^r\\x8d\\x9d3k\\xec\\xd0\\xd7}\\x99\\x9f\\xa5,\\x17\\xdd\\xda\\xdd\\xccY\\xc2\\xd3\\xb1\\x98\\xc7u\\xd1\\x81\\xcf\\xe6r\\x0e\\xe9\\xc6\\x06\\xe5\\xfa\\xf8\\xc8]\\x1b\\xff\\x82\\x91\\xce\\xb5\\xb4\\xc0\\x16\\x9d\\xbf}\\xc8d{m`\\xb5\\xce\\xb9\\x04\\xc2*g\\x95\\xb3\\xcb\\xd9%\\x10\\x80\\x919\\xb3w\\xabh\\xd3\\\\\\xa3\\xd5\\xb72F\\x92\\x93\\xcezR\\xdd\\xb3\\x89\\x95z\\xe6\\xe9\\xef?\\xf6\\xb59\\xb8uki5\\xdd\\xe13\\x89x\\xad\\x8ej\\xa7\\x99\\x17\\x16\\x99U1\\xbe{\\xbd\\xfe\\xe5\\x94+}xH\\xa8\\x1f\\xab\\xedq\\xf6\\x04A\\x89y#\\xc1\\x80?a\\x17`! \\x8b\\x1e\\x1eq3g\\n\\x16\\xce$\\xc6\\xc8S9\\xeeu\\xaeO\\x0e\\'\\x85\\x12W\\xa2q\\xd5\\xa7\\x16\\x86\\xcag\\x8b?\\xa4\\xbd\\xf6_\\x02i,\\xf7\\xbd5R\\xc9m\\xc7tP\\xac@\\x1cF\\x0e\\xa7\\x00\\xbe\\r\\'\\xe5}\\x9d3\\xbe\\t\\xe9H8R\\x9d\\xd5\\x97q\\xe0\\xec\\xc9>\\x8b\\x07\\x97 5\\xbd\\x89\\xd7S\\xe3\\x83JB\\xc0\\xe7\\x06\\x07:\\x18Jx\\xc3\\x9bR\\xda\\x18U\\xe5\\xbd\\xf1\\x92\\xd0H\\xb4\\xbePsk\\x0b\\xad%}y\\x94\\xf4&\\xe5\\x82\\x08\\x11\\xef/)c\\xd2\\x7f\\x96\\x08E\\x19@\\xed\\x8a\\xb3H\\xd3d\\xb5\\x98\\xa7\\xdb\\xf8&V\\xe8\\xd7b\\x8e\\xe3\\xcf\\xb2\\x0fQ\\xde\\xbbO\\xbd$\\xc5|1\\xfe#\\xe4\\x05|\\xf1_\\x04\\xdcj\\x98\\xae|\\xb1,\\xeb|\\xdd\\x05\\xbe\\xefe_\\xa7\\xc0\\xe1\\x02\\xa1\\xc1s:\\xc7Dg\\x8br\\x03\\xf1\\x8e\\xc5\\xa8\\xda\\xa2\\xdf\\xb7Mn\\xa5\\xb6\\x8c\\xec\\x05\\xadI\\x06\\x1d\\xf5\\xcf\\xa4<\\xd0\\x9bnu7[\\xab}\\xfe\\x1a\\xc7\\x7f\\x95\\x938\\xef.\\xb6y\\xb9p#\\xcf1H3%\\xfa\\x90\\xa5\\xe5\\x87\\x1am\\xa7\\x93\\x97;\\xd6\\xd8a\\n\\x97\\xe6o1\\xe3\\x86\\xf9)\\xce\\xceSN\\x93=\\x17\\xbd\\xa0\\x97]\\xa6\\xe8\\rF\\x18_1\\x0f#\\xe0\\xa7\\xb8\\xa3\\xbcv\\x1be\\xd7\\x91\\xc5\\xabP\\xce\\x08g\\xc4\\x08\\xc0ei\\x98\\x8aHL\\x9e>c\\x8d\\xf2\\xf7\\xf4\\x88\\x03\\x96L?\\x9e\\xaa\\x93a\\xcb\\xbc\\xea\\xeb\\xb3\\x14\\x9d\\xd9\\xd4\\x18\\xdd\\x97\\xa3\\x0b/}\\xba\\x1e \\xee\\xde\\xbd\\x10{\\xdf?\\x1f\\xba\\x88z\\xc0\\x05\\xf2<\\xc8\\xf7\\xb5\\x8e\\xa9\\x00\\x0b\\x15\\x13\\xa0})\\x14\\xf6|\\xafF\\x91\\x1a-\\x93\\x0bt?\\x1a\\xf6O\\xda\\xc65\\xe7\\x90\\x18\\x01\\x1e\\x01\\xf96\\xd7\\xb0\\xcd\\xecz.@\\xb4\\xdd\\x98\\x90|\\n\\x96wk\\xb7\\x9e\\x9a\\xea\\xf2\\x81\\x865\\xd7\\xf7\\t)\\x97\\x98\\xccg\\x1d\\xffUQ\\x02\\x00u\\x02\\x97\\x81\\xeao}\\x0e\\xa2\\xd9[\\xb4g\\x98\\xe6^2\\xc3\\xf1\\xe8ms\\x95\\xca\\xce\\xaf\\xee\\\\g\\x84Qkm\\x9c&\\xce&\\xbe\\x8cB\\xf7\\xcb\\xa2\\x13`\\x11\\x1d=\\x1d\\xa2\\xef\\x1fA\\xd9\\x16\\xb1\\xd0\\x18\\xb9%\\xdb\\x19\\x8b\\x11\\xddGh\\xc6r\\xb6\\xbbsc\\xe6E\\xca\\x1b\\xff\\x94u\\x18}{\\x85\\x0e-/V>Lq<\\xcc\\x96g.g\\xb1\\xd5\\xba\\xc7H\\x01\\x0eys\\xa3\\xf6y:\\xedz\\xd6M~\\xf9\\xce~\\x1f\\x88!\\x9aVz\\xac\\x01\\xe9 \\x1dt\\xab\\x93\\x98\\'\\x14RUV\\xb38|\\xc6\\xc5\\xc9\\xc5\\xc5\\xdd\\xad\\xf0\\xc9\\xadR\\xc3\\x82Y\\xba\\xbc\\x9a\\x96\\x95\\xe4z\\x9d`nn|\\xe7\\xef0\\xa7\\x12\\xa4\\x1a\\xe7\\x8f\\xb9\\x83n}]\\xeb\\xdb\\x82\\xac\\xbbS\\x06s\\x012\\xd3\\xbf\\xa4\\xaa\\xdf\\xb6\\xcdoV#Hg\\xd0\\x84\\x03a\\x8d\\x96\\x87bi\\xe9:\\xe9\\xcb\\xd1*\\xcc!\\xf9n\\xec\\x9e1]B\\x89s\\x86\\x9f&\\x91\\x9aB\\x1fEo\\xa2z\\xe3QQ,\\xfe#\\x89\\x9a=\\x9f\\xaf\\xb0\\x9d\\xa7\\xe6\\x1c\\xaa\\xab\\xb7\\xca\\x0e\\x12\\x8c\\xae\\x10L\\xeaU\\xce\\xf9)\\x14\\x9c\\xd9p\\x94\\xa6>\\xe9o\\x98\\xa2kI\\xdbK\\x04\\xd3\\x18\\x1e\\xfa\\xb0\\x9d\\x16\\x82\\xb1\\x0bW\\x19:Hkpy\\xfaz\\xf0\\xdd\\xe0u\\xbfW\\rW\\xb5.a\\x85\\x91Z\\x9f\\xf4\\xb1.l\\xc2\\xe3\"Y\\xb6c\\x1a\\x7f\\x97e\\x8a\\xf3\\x9d\\xe6\\xc8^\\x96\\xc2\\xd3\\xabkO\\xa2q\\x1cb\\xd3\\xa2*\\xa6Z\\x1bw\\xe9\\x0e\\x9f\\x93\\xd5\\xd6\\xb0\\x94\\xa7\\x84=\\xf2\\x1dV\\x94U\\x1b?K\\x16\\xf6\\xd9\\x16e=*\\x94I\\xc9\\xbfw\\xbc\\xde\\xc5\\x00kb/\\x89\\xbf\\x1e\\xe1\\x89\\xcf\\xf3\\xc4SU\\x0e\\x98\\xe2\\x0b\\x068^\\xacy3\\x8e\\x17s\\xac\\xdci\\xdauI\\x93\\x91\\x8f\\x8c\\xad\\xf1mI\\x92\\xa6\\xd8|\\xb1\\x88hQC\\xd3\\xe7\\xe3\\xc0\\xe4\\x9bhk\\x0c\\xcc\\x8a\\xf0[\\t8]\\x91gz\\x08=\\x04\\xa0\\xc8+\\x7f\\xd6\\x0f\\xa7,\\xfd?\\x02\\x7f9\\x8a\\xdf\\xecG\\xaf\\xf8\\x1e\\xf8\\xdb \\x92\\xfb\\xe2OPK\\x01\\x02\\x1f\\x00\\n\\x00\\x00\\x00\\x00\\x00f\\x8c\\xe6P\\x00\\x00\\x00\\x00\\x00\\x00\\x00\\x00\\x00\\x00\\x00\\x00\\x06\\x00$\\x00\\x00\\x00\\x00\\x00\\x00\\x000\\x00\\x00\\x00\\x00\\x00\\x00\\x00train/\\n\\x00 \\x00\\x00\\x00\\x00\\x00\\x01\\x00\\x18\\x003i\\xed\\xa7\\xa2S\\xd6\\x013i\\xed\\xa7\\xa2S\\xd6\\x01Xk\\xca.\\xa2S\\xd6\\x01PK\\x01\\x02\\x1f\\x00\\x14\\x00\\x00\\x00\\x08\\x00\\x1a\\xb6\\xa3N^V:\\xfd\\xab\\x0c\\x00\\x00\\x8b\\r\\x00\\x00\\x13\\x00$\\x00\\x00\\x00\\x00\\x00\\x00\\x00 \\x00\\x00\\x00$\\x00\\x00\\x00train/lld_25097.jpg\\n\\x00 \\x00\\x00\\x00\\x00\\x00\\x01\\x00\\x18\\x00\\x00*\\xd3;\\xe9\\x01\\xd5\\x01/\\xc5\\x7f\\xa3\\xa2S\\xd6\\x011\\x9e\\x7f\\xa3\\xa2S\\xd6\\x01PK\\x01\\x02\\x1f\\x00\\x14\\x00\\x00\\x00\\x08\\x00\\x1c\\xb6\\xa3N/k\\x96\\x98\\xb1\\x08\\x00\\x00\\xd2\\t\\x00\\x00\\x13\\x00$\\x00\\x00\\x00\\x00\\x00\\x00\\x00 \\x00\\x00\\x00\\x00\\r\\x00\\x00train/lld_26738.jpg\\n\\x00 \\x00\\x00\\x00\\x00\\x00\\x01\\x00\\x18\\x00\\x00\\x845>\\xe9\\x01\\xd5\\x01\"\\x90\\xed\\xa7\\xa2S\\xd6\\x013i\\xed\\xa7\\xa2S\\xd6\\x01PK\\x05\\x06\\x00\\x00\\x00\\x00\\x03\\x00\\x03\\x00\"\\x01\\x00\\x00\\xe2\\x15\\x00\\x00\\x00\\x00'}"
            ]
          },
          "metadata": {
            "tags": []
          },
          "execution_count": 1
        }
      ]
    },
    {
      "cell_type": "code",
      "metadata": {
        "id": "ETaVCWzQPb2s",
        "colab_type": "code",
        "colab": {
          "base_uri": "https://localhost:8080/",
          "height": 84
        },
        "outputId": "3b939b34-d47f-4ab0-ee41-ab6ec879f77c"
      },
      "source": [
        "!unzip train.zip"
      ],
      "execution_count": null,
      "outputs": [
        {
          "output_type": "stream",
          "text": [
            "Archive:  train.zip\n",
            "   creating: train/\n",
            "  inflating: train/lld_25097.jpg     \n",
            "  inflating: train/lld_26738.jpg     \n"
          ],
          "name": "stdout"
        }
      ]
    },
    {
      "cell_type": "code",
      "metadata": {
        "id": "elnO5YOhPe7p",
        "colab_type": "code",
        "colab": {
          "base_uri": "https://localhost:8080/",
          "height": 34
        },
        "outputId": "f2681b1b-1a58-4f57-aad8-0c92d8145598"
      },
      "source": [
        "import numpy as np\n",
        "import pandas as pd\n",
        "import os\n",
        "\n",
        "path = 'train' #Klasör yolu\n",
        "picture_dir= os.listdir(path) #klasör içerisindeki dosya listesi\n",
        "len(picture_dir) #klasör içerisindeki dosya sayısı"
      ],
      "execution_count": null,
      "outputs": [
        {
          "output_type": "execute_result",
          "data": {
            "text/plain": [
              "2"
            ]
          },
          "metadata": {
            "tags": []
          },
          "execution_count": 3
        }
      ]
    },
    {
      "cell_type": "code",
      "metadata": {
        "id": "besF3W9uPkmM",
        "colab_type": "code",
        "colab": {
          "base_uri": "https://localhost:8080/",
          "height": 118
        },
        "outputId": "4ae3bff2-1625-4f1d-d90a-d38168bc66f7"
      },
      "source": [
        "from PIL import Image\n",
        "from tqdm import tqdm\n",
        "import numpy as np\n",
        "import os\n",
        "\n",
        "picture_count = 2  #len(PIC_DIR) komutuna göre değişir.\n",
        "width = 128\n",
        "height = 128\n",
        "   \n",
        "pictures = []\n",
        "for picture_file in tqdm(os.listdir(path)[:picture_count]):\n",
        "    picture = Image.open(path + '/'  '/' + picture_file)\n",
        "    print(picture_file)\n",
        "    width,height=picture.size\n",
        "    print(width,height)\n",
        "    max_size = (128, 128) \n",
        "    picture.thumbnail(max_size) #Resimin yeni boyutu\n",
        "    pictures.append(np.uint8(picture))\n",
        "    \n",
        "pictures = np.array(pictures) / 255\n",
        "pictures.shape #images boyutsal şeklini gösterir."
      ],
      "execution_count": null,
      "outputs": [
        {
          "output_type": "stream",
          "text": [
            "100%|██████████| 2/2 [00:00<00:00, 83.02it/s]"
          ],
          "name": "stderr"
        },
        {
          "output_type": "stream",
          "text": [
            "lld_25097.jpg\n",
            "128 128\n",
            "lld_26738.jpg\n",
            "128 128\n"
          ],
          "name": "stdout"
        },
        {
          "output_type": "stream",
          "text": [
            "\n"
          ],
          "name": "stderr"
        },
        {
          "output_type": "execute_result",
          "data": {
            "text/plain": [
              "(2, 128, 128, 3)"
            ]
          },
          "metadata": {
            "tags": []
          },
          "execution_count": 4
        }
      ]
    },
    {
      "cell_type": "code",
      "metadata": {
        "id": "7jEfYG1qPq_S",
        "colab_type": "code",
        "colab": {
          "base_uri": "https://localhost:8080/",
          "height": 78
        },
        "outputId": "d9a6d261-73ab-4d9e-8817-adb5a889888c"
      },
      "source": [
        "from matplotlib import pyplot as plt\n",
        "\n",
        "#Eğitilmek için alınan resimleri gösterir.\n",
        "plt.figure(1, figsize=(5, 5))\n",
        "for i in range(2):\n",
        "    plt.subplot(5, 5, i+1)\n",
        "    plt.imshow(pictures[i])\n",
        "    plt.axis('off')\n",
        "plt.show()"
      ],
      "execution_count": null,
      "outputs": [
        {
          "output_type": "display_data",
          "data": {
            "image/png": "[encoded data removed]",
            "text/plain": [
              "<Figure size 360x360 with 2 Axes>"
            ]
          },
          "metadata": {
            "tags": [],
            "needs_background": "light"
          }
        }
      ]
    },
    {
      "cell_type": "code",
      "metadata": {
        "id": "SlvqjXRTPw2E",
        "colab_type": "code",
        "colab": {
          "base_uri": "https://localhost:8080/",
          "height": 34
        },
        "outputId": "52b84e9d-60c3-49a0-f522-136d0a4fe90a"
      },
      "source": [
        "from keras import Input\n",
        "from keras.layers import Dense, Reshape, LeakyReLU, Conv2D, Conv2DTranspose, Flatten, Dropout\n",
        "from keras.models import Model\n",
        "from keras.optimizers import RMSprop\n",
        "\n",
        "latent_dim = 32\n",
        "channels = 3\n",
        "\n",
        "#Generator ağ oluşturan fonksiyon\n",
        "def create_generator():\n",
        "    gen_input = Input(shape=(latent_dim, ))\n",
        "    \n",
        "    x = Dense(128 * 16 * 16)(gen_input)\n",
        "    x = LeakyReLU()(x)\n",
        "    x = Reshape((16, 16, 128))(x)\n",
        "    \n",
        "    x = Conv2D(256, 5, padding='same')(x)\n",
        "    x = LeakyReLU()(x)\n",
        "    \n",
        "    x = Conv2DTranspose(256, 4, strides=2, padding='same')(x)\n",
        "    x = LeakyReLU()(x)\n",
        "    \n",
        "    x = Conv2DTranspose(256, 4, strides=2, padding='same')(x)\n",
        "    x = LeakyReLU()(x)\n",
        "    \n",
        "    x = Conv2DTranspose(256, 4, strides=2, padding='same')(x)\n",
        "    x = LeakyReLU()(x)\n",
        "    \n",
        "    x = Conv2D(512, 5, padding='same')(x)\n",
        "    x = LeakyReLU()(x)\n",
        "    x = Conv2D(512, 5, padding='same')(x)\n",
        "    x = LeakyReLU()(x)\n",
        "    x = Conv2D(channels, 7, activation='tanh', padding='same')(x)\n",
        "    \n",
        "    generator = Model(gen_input, x)\n",
        "    return generator\n",
        "\n",
        "#Discriminator ağ oluşturan fonksiyon\n",
        "def create_discriminator():\n",
        "    disc_input = Input(shape=(height, width, channels))\n",
        "    \n",
        "    x = Conv2D(256, 3)(disc_input)\n",
        "    x = LeakyReLU()(x)\n",
        "    \n",
        "    x = Conv2D(256, 4, strides=2)(x)\n",
        "    x = LeakyReLU()(x)\n",
        "    \n",
        "    x = Conv2D(256, 4, strides=2)(x)\n",
        "    x = LeakyReLU()(x)\n",
        "    \n",
        "    x = Conv2D(256, 4, strides=2)(x)\n",
        "    x = LeakyReLU()(x)\n",
        "    \n",
        "    x = Conv2D(256, 4, strides=2)(x)\n",
        "    x = LeakyReLU()(x)\n",
        "    \n",
        "    x = Flatten()(x)\n",
        "    x = Dropout(0.4)(x)\n",
        "    \n",
        "    x = Dense(1, activation='sigmoid')(x)\n",
        "    discriminator = Model(disc_input, x)\n",
        "    \n",
        "    optimizer = RMSprop(\n",
        "        lr=.0001,\n",
        "        clipvalue=1.0,\n",
        "        decay=1e-8\n",
        "    )\n",
        "    \n",
        "    discriminator.compile(\n",
        "        optimizer=optimizer,\n",
        "        loss='binary_crossentropy'\n",
        "    )\n",
        "    \n",
        "    return discriminator"
      ],
      "execution_count": null,
      "outputs": [
        {
          "output_type": "stream",
          "text": [
            "Using TensorFlow backend.\n"
          ],
          "name": "stderr"
        }
      ]
    },
    {
      "cell_type": "code",
      "metadata": {
        "id": "s7dK7kF5P2JS",
        "colab_type": "code",
        "colab": {}
      },
      "source": [
        "generator = create_generator()\n",
        "discriminator = create_discriminator()\n",
        "discriminator.trainable = False #discriminator eğitime kapalıdır.\n",
        "\n",
        "# Gan modelinin oluşturulması\n",
        "gan_input = Input(shape=(latent_dim, ))\n",
        "gan_output = discriminator(generator(gan_input))\n",
        "gan = Model(gan_input, gan_output)\n",
        "\n",
        "optimizer = RMSprop(lr=.0001, clipvalue=1.0, decay=1e-8)\n",
        "gan.compile(optimizer=optimizer, loss='binary_crossentropy')"
      ],
      "execution_count": null,
      "outputs": []
    },
    {
      "cell_type": "code",
      "metadata": {
        "id": "RNj952yHP7N3",
        "colab_type": "code",
        "colab": {
          "base_uri": "https://localhost:8080/",
          "height": 1000
        },
        "outputId": "690f2adf-e97d-4dd0-8386-768d54d0ff80"
      },
      "source": [
        "import time\n",
        "\n",
        "iters = 5000\n",
        "batch_size = 13\n",
        "\n",
        "result_dir = 'result'\n",
        "file_path = '%s/generated_%d.png'\n",
        "if not os.path.isdir(result_dir):\n",
        "    os.mkdir(result_dir)\n",
        "\n",
        "control_size_sqrt = 1\n",
        "control_vectors = np.random.normal(size=(control_size_sqrt**2, latent_dim)) / 2\n",
        "\n",
        "start = 0\n",
        "d_losses = []\n",
        "a_losses = []\n",
        "images_saved = 0\n",
        "for step in range(iters):\n",
        "    start_time = time.time()\n",
        "    latent_vectors = np.random.normal(size=(batch_size, latent_dim))\n",
        "    generated = generator.predict(latent_vectors)\n",
        "    \n",
        "    real = pictures[start:start + batch_size]\n",
        "    combined_pictures = np.concatenate([generated, real])\n",
        "    \n",
        "    labels = np.concatenate([np.ones((batch_size-11, 1)), np.zeros((batch_size, 1))])\n",
        "    labels += .05 * np.random.random(labels.shape)\n",
        "    \n",
        "    d_loss = discriminator.train_on_batch(combined_pictures, labels)\n",
        "    d_losses.append(d_loss)\n",
        "    \n",
        "    latent_vectors = np.random.normal(size=(batch_size, latent_dim))\n",
        "    misleading_targets = np.zeros((batch_size, 1))\n",
        "    \n",
        "    a_loss = gan.train_on_batch(latent_vectors, misleading_targets)\n",
        "    a_losses.append(a_loss)\n",
        "    \n",
        "    start += batch_size\n",
        "    if start > pictures.shape[0] - batch_size:\n",
        "        start = 0\n",
        "    \n",
        "    if step % 50 == 49:\n",
        "        gan.save_weights('gang.h5')\n",
        "        \n",
        "        print('%d/%d: d_loss: %.4f,  a_loss: %.4f.  (%.1f sec)' % (step + 1, iters, d_loss, a_loss, time.time() - start_time))\n",
        "        \n",
        "        control_picture = np.zeros((width * control_size_sqrt, height * control_size_sqrt, channels))\n",
        "        control_generated = generator.predict(control_vectors)\n",
        "        for i in range(control_size_sqrt ** 2):\n",
        "            x_off = i % control_size_sqrt\n",
        "            y_off = i // control_size_sqrt\n",
        "            control_picture[x_off * width:(x_off + 1) * width, y_off * height:(y_off + 1) * height, :] = control_generated[i, :, :, :]\n",
        "        im = Image.fromarray(np.uint8(control_picture * 255))\n",
        "        im.save(file_path % (result_dir, images_saved))\n",
        "        images_saved += 1"
      ],
      "execution_count": null,
      "outputs": [
        {
          "output_type": "stream",
          "text": [
            "/usr/local/lib/python3.6/dist-packages/keras/engine/training.py:297: UserWarning: Discrepancy between trainable weights and collected trainable weights, did you set `model.trainable` without calling `model.compile` after ?\n",
            "  'Discrepancy between trainable weights and collected trainable'\n"
          ],
          "name": "stderr"
        },
        {
          "output_type": "stream",
          "text": [
            "50/5000: d_loss: 0.4247,  a_loss: 0.1933.  (0.9 sec)\n",
            "100/5000: d_loss: 0.4647,  a_loss: 0.3055.  (0.9 sec)\n",
            "150/5000: d_loss: 0.4371,  a_loss: 0.2693.  (0.9 sec)\n",
            "200/5000: d_loss: 0.4188,  a_loss: 0.1769.  (0.8 sec)\n",
            "250/5000: d_loss: 0.4618,  a_loss: 0.1373.  (0.8 sec)\n",
            "300/5000: d_loss: 0.4261,  a_loss: 0.1561.  (0.9 sec)\n",
            "350/5000: d_loss: 0.4365,  a_loss: 0.2028.  (0.8 sec)\n",
            "400/5000: d_loss: 0.4324,  a_loss: 0.1515.  (0.9 sec)\n",
            "450/5000: d_loss: 0.4103,  a_loss: 0.1866.  (0.8 sec)\n",
            "500/5000: d_loss: 0.4354,  a_loss: 0.1901.  (0.9 sec)\n",
            "550/5000: d_loss: 0.4596,  a_loss: 0.2382.  (0.8 sec)\n",
            "600/5000: d_loss: 0.4418,  a_loss: 0.0389.  (0.9 sec)\n",
            "650/5000: d_loss: 0.4337,  a_loss: 0.2134.  (0.9 sec)\n",
            "700/5000: d_loss: 0.4259,  a_loss: 0.2068.  (0.9 sec)\n",
            "750/5000: d_loss: 0.4365,  a_loss: 0.1899.  (0.9 sec)\n",
            "800/5000: d_loss: 0.4388,  a_loss: 0.2084.  (0.9 sec)\n",
            "850/5000: d_loss: 0.4196,  a_loss: 0.2257.  (0.9 sec)\n",
            "900/5000: d_loss: 0.4266,  a_loss: 0.2137.  (0.9 sec)\n",
            "950/5000: d_loss: 0.4168,  a_loss: 0.1768.  (0.9 sec)\n",
            "1000/5000: d_loss: 0.4403,  a_loss: 0.2050.  (0.9 sec)\n",
            "1050/5000: d_loss: 0.4487,  a_loss: 0.2394.  (0.9 sec)\n",
            "1100/5000: d_loss: 0.4279,  a_loss: 0.1995.  (0.9 sec)\n",
            "1150/5000: d_loss: 0.4342,  a_loss: 0.2032.  (0.9 sec)\n",
            "1200/5000: d_loss: 0.4259,  a_loss: 0.2586.  (0.9 sec)\n",
            "1250/5000: d_loss: 0.4581,  a_loss: 0.2515.  (0.9 sec)\n",
            "1300/5000: d_loss: 0.4237,  a_loss: 0.2037.  (0.9 sec)\n",
            "1350/5000: d_loss: 0.4409,  a_loss: 0.1994.  (0.9 sec)\n",
            "1400/5000: d_loss: 0.4089,  a_loss: 0.1747.  (0.9 sec)\n",
            "1450/5000: d_loss: 0.4378,  a_loss: 0.2084.  (0.9 sec)\n",
            "1500/5000: d_loss: 0.4084,  a_loss: 0.1726.  (0.9 sec)\n",
            "1550/5000: d_loss: 0.4102,  a_loss: 0.1627.  (0.9 sec)\n",
            "1600/5000: d_loss: 0.4192,  a_loss: 0.1849.  (0.9 sec)\n",
            "1650/5000: d_loss: 0.4139,  a_loss: 0.1880.  (0.9 sec)\n",
            "1700/5000: d_loss: 0.4396,  a_loss: 0.2242.  (0.9 sec)\n",
            "1750/5000: d_loss: 0.4130,  a_loss: 0.2186.  (0.9 sec)\n",
            "1800/5000: d_loss: 0.4155,  a_loss: 0.1829.  (0.9 sec)\n",
            "1850/5000: d_loss: 0.4388,  a_loss: 0.2056.  (0.9 sec)\n",
            "1900/5000: d_loss: 0.4122,  a_loss: 0.2024.  (0.9 sec)\n",
            "1950/5000: d_loss: 0.4183,  a_loss: 0.1746.  (0.9 sec)\n",
            "2000/5000: d_loss: 0.3953,  a_loss: 0.2046.  (0.9 sec)\n",
            "2050/5000: d_loss: 0.4210,  a_loss: 0.1362.  (0.9 sec)\n",
            "2100/5000: d_loss: 0.4580,  a_loss: 0.2375.  (0.9 sec)\n",
            "2150/5000: d_loss: 0.4488,  a_loss: 0.1694.  (0.9 sec)\n",
            "2200/5000: d_loss: 0.4806,  a_loss: 0.1913.  (0.9 sec)\n",
            "2250/5000: d_loss: 0.4374,  a_loss: 0.2282.  (0.9 sec)\n",
            "2300/5000: d_loss: 0.4481,  a_loss: 0.2370.  (0.9 sec)\n",
            "2350/5000: d_loss: 0.4573,  a_loss: 0.2398.  (0.9 sec)\n",
            "2400/5000: d_loss: 0.4262,  a_loss: 0.2072.  (0.9 sec)\n",
            "2450/5000: d_loss: 0.4156,  a_loss: 0.1686.  (0.9 sec)\n",
            "2500/5000: d_loss: 0.4247,  a_loss: 0.1894.  (0.9 sec)\n",
            "2550/5000: d_loss: 0.4126,  a_loss: 0.1691.  (0.9 sec)\n",
            "2600/5000: d_loss: 0.4434,  a_loss: 0.1857.  (0.9 sec)\n",
            "2650/5000: d_loss: 0.4105,  a_loss: 0.1605.  (0.9 sec)\n",
            "2700/5000: d_loss: 0.4222,  a_loss: 0.1890.  (0.9 sec)\n",
            "2750/5000: d_loss: 0.4279,  a_loss: 0.1719.  (0.9 sec)\n",
            "2800/5000: d_loss: 0.4199,  a_loss: 0.1646.  (0.9 sec)\n",
            "2850/5000: d_loss: 0.4181,  a_loss: 0.2230.  (0.9 sec)\n",
            "2900/5000: d_loss: 0.4338,  a_loss: 0.0583.  (0.9 sec)\n",
            "2950/5000: d_loss: 0.4417,  a_loss: 0.1757.  (0.9 sec)\n",
            "3000/5000: d_loss: 0.4404,  a_loss: 0.1885.  (0.9 sec)\n",
            "3050/5000: d_loss: 0.4188,  a_loss: 0.1919.  (0.9 sec)\n",
            "3100/5000: d_loss: 0.4463,  a_loss: 0.2123.  (0.9 sec)\n",
            "3150/5000: d_loss: 0.4156,  a_loss: 0.1657.  (0.9 sec)\n",
            "3200/5000: d_loss: 0.4305,  a_loss: 0.1876.  (0.9 sec)\n",
            "3250/5000: d_loss: 0.4242,  a_loss: 0.1837.  (0.9 sec)\n",
            "3300/5000: d_loss: 0.4078,  a_loss: 0.1700.  (0.9 sec)\n",
            "3350/5000: d_loss: 0.4594,  a_loss: 0.2154.  (0.9 sec)\n",
            "3400/5000: d_loss: 0.4320,  a_loss: 0.1744.  (0.9 sec)\n",
            "3450/5000: d_loss: 0.4224,  a_loss: 0.1680.  (0.9 sec)\n",
            "3500/5000: d_loss: 0.4357,  a_loss: 0.2087.  (0.9 sec)\n",
            "3550/5000: d_loss: 0.4405,  a_loss: 0.2078.  (0.9 sec)\n",
            "3600/5000: d_loss: 0.4451,  a_loss: 0.2113.  (0.9 sec)\n",
            "3650/5000: d_loss: 0.4163,  a_loss: 0.1723.  (0.9 sec)\n",
            "3700/5000: d_loss: 0.4365,  a_loss: 0.1812.  (0.9 sec)\n",
            "3750/5000: d_loss: 0.4072,  a_loss: 0.1761.  (0.9 sec)\n",
            "3800/5000: d_loss: 0.4466,  a_loss: 0.2246.  (0.9 sec)\n",
            "3850/5000: d_loss: 0.4445,  a_loss: 0.2108.  (0.9 sec)\n",
            "3900/5000: d_loss: 0.4400,  a_loss: 0.1979.  (0.9 sec)\n",
            "3950/5000: d_loss: 0.4246,  a_loss: 0.1730.  (0.9 sec)\n",
            "4000/5000: d_loss: 0.4452,  a_loss: 0.2829.  (0.9 sec)\n",
            "4050/5000: d_loss: 0.4417,  a_loss: 0.1776.  (0.9 sec)\n",
            "4100/5000: d_loss: 0.4310,  a_loss: 0.1789.  (0.9 sec)\n",
            "4150/5000: d_loss: 0.4322,  a_loss: 0.1894.  (0.9 sec)\n",
            "4200/5000: d_loss: 0.4173,  a_loss: 0.1591.  (0.9 sec)\n",
            "4250/5000: d_loss: 0.4316,  a_loss: 0.1957.  (0.9 sec)\n",
            "4300/5000: d_loss: 0.4340,  a_loss: 0.1997.  (0.9 sec)\n",
            "4350/5000: d_loss: 0.4340,  a_loss: 0.1473.  (0.9 sec)\n",
            "4400/5000: d_loss: 0.4169,  a_loss: 0.1799.  (0.9 sec)\n",
            "4450/5000: d_loss: 0.4325,  a_loss: 0.1741.  (0.9 sec)\n",
            "4500/5000: d_loss: 0.4301,  a_loss: 0.1660.  (0.9 sec)\n",
            "4550/5000: d_loss: 0.5037,  a_loss: 0.4951.  (0.9 sec)\n",
            "4600/5000: d_loss: 0.4381,  a_loss: 0.1810.  (0.9 sec)\n",
            "4650/5000: d_loss: 0.4222,  a_loss: 0.1621.  (0.9 sec)\n",
            "4700/5000: d_loss: 0.4236,  a_loss: 0.1695.  (0.9 sec)\n",
            "4750/5000: d_loss: 0.4481,  a_loss: 0.2187.  (0.9 sec)\n",
            "4800/5000: d_loss: 0.4476,  a_loss: 0.2324.  (0.9 sec)\n",
            "4850/5000: d_loss: 0.4323,  a_loss: 0.1623.  (0.9 sec)\n",
            "4900/5000: d_loss: 0.4374,  a_loss: 0.1933.  (0.9 sec)\n",
            "4950/5000: d_loss: 0.4318,  a_loss: 0.2087.  (0.9 sec)\n",
            "5000/5000: d_loss: 0.4158,  a_loss: 0.1873.  (0.9 sec)\n"
          ],
          "name": "stdout"
        }
      ]
    },
    {
      "cell_type": "code",
      "metadata": {
        "id": "vwOITSy3ZS-Z",
        "colab_type": "code",
        "colab": {
          "base_uri": "https://localhost:8080/",
          "height": 1000
        },
        "outputId": "e8f5f69b-6f6e-4789-96cf-008e6daca06e"
      },
      "source": [
        "!zip -r result_train.zip result"
      ],
      "execution_count": null,
      "outputs": [
        {
          "output_type": "stream",
          "text": [
            "  adding: result/ (stored 0%)\n",
            "  adding: result/generated_77.png (stored 0%)\n",
            "  adding: result/generated_71.png (stored 0%)\n",
            "  adding: result/generated_85.png (stored 0%)\n",
            "  adding: result/generated_61.png (stored 0%)\n",
            "  adding: result/generated_20.png (stored 0%)\n",
            "  adding: result/generated_62.png (stored 0%)\n",
            "  adding: result/generated_30.png (stored 0%)\n",
            "  adding: result/generated_47.png (stored 0%)\n",
            "  adding: result/generated_2.png (deflated 22%)\n",
            "  adding: result/generated_86.png (stored 0%)\n",
            "  adding: result/generated_38.png (stored 0%)\n",
            "  adding: result/generated_10.png (stored 0%)\n",
            "  adding: result/generated_42.png (stored 0%)\n",
            "  adding: result/generated_54.png (stored 0%)\n",
            "  adding: result/generated_26.png (stored 0%)\n",
            "  adding: result/generated_82.png (stored 0%)\n",
            "  adding: result/generated_28.png (stored 0%)\n",
            "  adding: result/generated_0.png (stored 0%)\n",
            "  adding: result/generated_57.png (stored 0%)\n",
            "  adding: result/generated_9.png (deflated 1%)\n",
            "  adding: result/generated_53.png (stored 0%)\n",
            "  adding: result/generated_11.png (stored 0%)\n",
            "  adding: result/generated_22.png (stored 0%)\n",
            "  adding: result/generated_34.png (stored 0%)\n",
            "  adding: result/generated_70.png (stored 0%)\n",
            "  adding: result/generated_5.png (deflated 49%)\n",
            "  adding: result/generated_97.png (deflated 0%)\n",
            "  adding: result/generated_84.png (stored 0%)\n",
            "  adding: result/generated_76.png (stored 0%)\n",
            "  adding: result/generated_24.png (stored 0%)\n",
            "  adding: result/generated_99.png (deflated 0%)\n",
            "  adding: result/generated_37.png (stored 0%)\n",
            "  adding: result/generated_59.png (stored 0%)\n",
            "  adding: result/generated_94.png (stored 0%)\n",
            "  adding: result/generated_58.png (stored 0%)\n",
            "  adding: result/generated_80.png (deflated 0%)\n",
            "  adding: result/generated_51.png (stored 0%)\n",
            "  adding: result/generated_83.png (deflated 0%)\n",
            "  adding: result/generated_43.png (stored 0%)\n",
            "  adding: result/generated_49.png (stored 0%)\n",
            "  adding: result/generated_21.png (stored 0%)\n",
            "  adding: result/generated_67.png (stored 0%)\n",
            "  adding: result/generated_78.png (stored 0%)\n",
            "  adding: result/generated_66.png (stored 0%)\n",
            "  adding: result/generated_98.png (deflated 0%)\n",
            "  adding: result/generated_6.png (deflated 0%)\n",
            "  adding: result/generated_4.png (deflated 41%)\n",
            "  adding: result/generated_13.png (stored 0%)\n",
            "  adding: result/generated_73.png (deflated 0%)\n",
            "  adding: result/generated_93.png (stored 0%)\n",
            "  adding: result/generated_89.png (stored 0%)\n",
            "  adding: result/generated_60.png (stored 0%)\n",
            "  adding: result/generated_63.png (stored 0%)\n",
            "  adding: result/generated_32.png (stored 0%)\n",
            "  adding: result/generated_88.png (stored 0%)\n",
            "  adding: result/generated_1.png (stored 0%)\n",
            "  adding: result/generated_65.png (stored 0%)\n",
            "  adding: result/generated_31.png (stored 0%)\n",
            "  adding: result/generated_96.png (stored 0%)\n",
            "  adding: result/generated_16.png (stored 0%)\n",
            "  adding: result/generated_79.png (stored 0%)\n",
            "  adding: result/generated_48.png (stored 0%)\n",
            "  adding: result/generated_90.png (stored 0%)\n",
            "  adding: result/generated_72.png (stored 0%)\n",
            "  adding: result/generated_95.png (deflated 0%)\n",
            "  adding: result/generated_46.png (stored 0%)\n",
            "  adding: result/generated_15.png (stored 0%)\n",
            "  adding: result/generated_41.png (stored 0%)\n",
            "  adding: result/generated_45.png (stored 0%)\n",
            "  adding: result/generated_25.png (stored 0%)\n",
            "  adding: result/generated_33.png (stored 0%)\n",
            "  adding: result/generated_75.png (stored 0%)\n",
            "  adding: result/generated_44.png (stored 0%)\n",
            "  adding: result/generated_50.png (stored 0%)\n",
            "  adding: result/generated_64.png (stored 0%)\n",
            "  adding: result/generated_92.png (stored 0%)\n",
            "  adding: result/generated_14.png (stored 0%)\n",
            "  adding: result/generated_19.png (stored 0%)\n",
            "  adding: result/generated_3.png (deflated 22%)\n",
            "  adding: result/generated_40.png (stored 0%)\n",
            "  adding: result/generated_7.png (stored 0%)\n",
            "  adding: result/generated_12.png (stored 0%)\n",
            "  adding: result/generated_18.png (stored 0%)\n",
            "  adding: result/generated_74.png (stored 0%)\n",
            "  adding: result/generated_55.png (stored 0%)\n",
            "  adding: result/generated_17.png (stored 0%)\n",
            "  adding: result/generated_87.png (stored 0%)\n",
            "  adding: result/generated_69.png (stored 0%)\n",
            "  adding: result/generated_35.png (stored 0%)\n",
            "  adding: result/generated_23.png (stored 0%)\n",
            "  adding: result/generated_91.png (stored 0%)\n",
            "  adding: result/generated_27.png (stored 0%)\n",
            "  adding: result/generated_39.png (stored 0%)\n",
            "  adding: result/generated_68.png (stored 0%)\n",
            "  adding: result/generated_8.png (deflated 1%)\n",
            "  adding: result/generated_36.png (stored 0%)\n",
            "  adding: result/generated_29.png (stored 0%)\n",
            "  adding: result/generated_81.png (stored 0%)\n",
            "  adding: result/generated_56.png (stored 0%)\n",
            "  adding: result/generated_52.png (stored 0%)\n"
          ],
          "name": "stdout"
        }
      ]
    },
    {
      "cell_type": "code",
      "metadata": {
        "id": "vU2C-U_lZTbv",
        "colab_type": "code",
        "colab": {
          "base_uri": "https://localhost:8080/",
          "height": 34
        },
        "outputId": "a0f23099-d1e3-4eb7-a379-fc793dd385a1"
      },
      "source": [
        "files.download('result_train.zip')"
      ],
      "execution_count": null,
      "outputs": [
        {
          "output_type": "display_data",
          "data": {
            "application/javascript": [
              "\n",
              "    async function download(id, filename, size) {\n",
              "      if (!google.colab.kernel.accessAllowed) {\n",
              "        return;\n",
              "      }\n",
              "      const div = document.createElement('div');\n",
              "      const label = document.createElement('label');\n",
              "      label.textContent = `Downloading \"${filename}\": `;\n",
              "      div.appendChild(label);\n",
              "      const progress = document.createElement('progress');\n",
              "      progress.max = size;\n",
              "      div.appendChild(progress);\n",
              "      document.body.appendChild(div);\n",
              "\n",
              "      const buffers = [];\n",
              "      let downloaded = 0;\n",
              "\n",
              "      const channel = await google.colab.kernel.comms.open(id);\n",
              "      // Send a message to notify the kernel that we're ready.\n",
              "      channel.send({})\n",
              "\n",
              "      for await (const message of channel.messages) {\n",
              "        // Send a message to notify the kernel that we're ready.\n",
              "        channel.send({})\n",
              "        if (message.buffers) {\n",
              "          for (const buffer of message.buffers) {\n",
              "            buffers.push(buffer);\n",
              "            downloaded += buffer.byteLength;\n",
              "            progress.value = downloaded;\n",
              "          }\n",
              "        }\n",
              "      }\n",
              "      const blob = new Blob(buffers, {type: 'application/binary'});\n",
              "      const a = document.createElement('a');\n",
              "      a.href = window.URL.createObjectURL(blob);\n",
              "      a.download = filename;\n",
              "      div.appendChild(a);\n",
              "      a.click();\n",
              "      div.remove();\n",
              "    }\n",
              "  "
            ],
            "text/plain": [
              "<IPython.core.display.Javascript object>"
            ]
          },
          "metadata": {
            "tags": []
          }
        },
        {
          "output_type": "display_data",
          "data": {
            "application/javascript": [
              "download(\"download_3a7e9829-8e3c-4e70-9821-9acfa18efd72\", \"result_train.zip\", 2014928)"
            ],
            "text/plain": [
              "<IPython.core.display.Javascript object>"
            ]
          },
          "metadata": {
            "tags": []
          }
        }
      ]
    }
  ]
}